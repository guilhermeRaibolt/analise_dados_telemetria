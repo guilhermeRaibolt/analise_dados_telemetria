{
 "cells": [
  {
   "cell_type": "markdown",
   "id": "54a7aabc",
   "metadata": {},
   "source": [
    "# Importando os dados"
   ]
  },
  {
   "cell_type": "code",
   "execution_count": 2,
   "id": "a94b1ee0",
   "metadata": {},
   "outputs": [],
   "source": [
    "import pandas as pd\n",
    "import numpy as np\n",
    "import os\n",
    "import glob"
   ]
  },
  {
   "cell_type": "markdown",
   "id": "afcb044a",
   "metadata": {},
   "source": [
    "## Lendo todos os arquivos .txt do diretório\n",
    "\n",
    "\n",
    "Além disso, adicionei uma referência como um dicionário (array_dicionarios) para sabermos em que parte do df concatenado está cada arquivo"
   ]
  },
  {
   "cell_type": "code",
   "execution_count": 51,
   "id": "1b72e2a8",
   "metadata": {
    "require": [
     "base/js/events",
     "datatables.net",
     "d3",
     "chartjs",
     "dt-config",
     "dt-components",
     "dt-graph-objects",
     "dt-toolbar",
     "dt-tooltips",
     "jupyter-datatables"
    ]
   },
   "outputs": [
    {
     "name": "stdout",
     "output_type": "stream",
     "text": [
      "      0      1     2     3     4   5   6      7      8     9    10  \\\n",
      "0  66.11  55.72  34.8  43.0  4.88   1   1  46.85  77.65  13.0  0.0   \n",
      "1  68.09  54.40  34.8  43.0  4.88   1   1  46.85  77.65  13.0  0.0   \n",
      "2  66.31  51.43  34.8  43.0  4.89   1   1  46.85  77.65  13.0  0.0   \n",
      "3  65.87  54.49  34.8  43.0  4.88   1   1  46.85  77.65  13.0  0.0   \n",
      "4  48.17  36.37  34.8  43.0  4.88   1   1  46.85  77.65  13.0  0.0   \n",
      "5  37.83  24.55  34.8  43.0  4.88   1   1  46.85  77.65  13.0  0.0   \n",
      "6  35.03  21.97  34.8  43.0  4.88   1   1  46.85  77.65  13.0  0.0   \n",
      "7  33.67  21.76  34.9  43.0  4.88   1   1  46.85  77.65  13.0  0.0   \n",
      "8  33.95  23.44  34.9  43.0  4.88   1   1  46.85  77.65  13.0  0.0   \n",
      "9  34.63  21.67  34.8  43.0  4.88   1   1  46.85  77.65  13.0  0.0   \n",
      "\n",
      "                    11  \n",
      "0  01/07/2023 10:03:07  \n",
      "1  01/07/2023 10:03:08  \n",
      "2  01/07/2023 10:03:09  \n",
      "3  01/07/2023 10:03:10  \n",
      "4  01/07/2023 10:03:11  \n",
      "5  01/07/2023 10:03:12  \n",
      "6  01/07/2023 10:03:13  \n",
      "7  01/07/2023 10:03:14  \n",
      "8  01/07/2023 10:03:15  \n",
      "9  01/07/2023 10:03:16  \n",
      "{'./Dados\\\\01-07-2023 10_09_48.txt': 400}\n"
     ]
    }
   ],
   "source": [
    "# Obter o diretório atual do notebook\n",
    "diretorio = './Dados/'\n",
    "\n",
    "# Obter todos os arquivos .txt no diretório\n",
    "arquivos_txt = glob.glob(diretorio + '*.txt')\n",
    "\n",
    "# Array para armazenar os DataFrames\n",
    "array_dataframes = []\n",
    "array_dicionarios = []\n",
    "linhas_referencia = 0\n",
    "\n",
    "# Iterar sobre os arquivos .txt, converter em DataFrame e armazenar no array\n",
    "for arquivo in arquivos_txt:\n",
    "    dataframe = pd.read_csv(arquivo, header=None)\n",
    "    array_dataframes.append(dataframe)\n",
    "    linhas_referencia += dataframe.shape[0]\n",
    "    dicionario = {arquivo: linhas_referencia}\n",
    "    array_dicionarios.append(dicionario)\n",
    "\n",
    "# Concatenar os DataFrames verticalmente com redefinição de índice\n",
    "df = pd.concat(array_dataframes, axis=0, ignore_index=True)\n",
    "\n",
    "# Exibir o DataFrame concatenado\n",
    "print(df.head(10))\n",
    "print(array_dicionarios[0])"
   ]
  },
  {
   "cell_type": "markdown",
   "id": "1bd9c28c",
   "metadata": {},
   "source": [
    "## Renomeando as colunas"
   ]
  },
  {
   "cell_type": "code",
   "execution_count": 5,
   "id": "3695351a",
   "metadata": {},
   "outputs": [],
   "source": [
    "mapeamento_colunas = {\n",
    "    0: 'correnteMotor',\n",
    "    1: 'correnteBaterias',\n",
    "    2: 'temperatura',\n",
    "    3: 'umidade',\n",
    "    4: 'tensaoAlimentacaoPCB',\n",
    "    5: 'estadoStringSolar1',\n",
    "    6: 'estadoStringSolar2',\n",
    "    7: 'tensaoSaidaMPPT',\n",
    "    8: 'tensaoEntradaMPPT',\n",
    "    9: 'correnteMPPT',\n",
    "    10: 'velocidade',\n",
    "    11: 'updateAt'\n",
    "}\n",
    "\n",
    "\n",
    "df = df.rename(columns=mapeamento_colunas)"
   ]
  },
  {
   "cell_type": "code",
   "execution_count": 40,
   "id": "b5fd44d4",
   "metadata": {},
   "outputs": [],
   "source": [
    "# Convertendo updateAt em datetime\n",
    "df['updateAt'] = df['updateAt'].apply(pd.to_datetime)"
   ]
  },
  {
   "cell_type": "code",
   "execution_count": 6,
   "id": "6a81e493",
   "metadata": {},
   "outputs": [
    {
     "data": {
      "text/plain": [
       "Index(['correnteMotor', 'correnteBaterias', 'temperatura', 'umidade',\n",
       "       'tensaoAlimentacaoPCB', 'estadoStringSolar1', 'estadoStringSolar2',\n",
       "       'tensaoSaidaMPPT', 'tensaoEntradaMPPT', 'correnteMPPT', 'velocidade',\n",
       "       'updateAt'],\n",
       "      dtype='object')"
      ]
     },
     "execution_count": 6,
     "metadata": {},
     "output_type": "execute_result"
    }
   ],
   "source": [
    "df.columns"
   ]
  },
  {
   "cell_type": "markdown",
   "id": "92c0f5ee",
   "metadata": {},
   "source": [
    "# Análise dos dados"
   ]
  },
  {
   "cell_type": "markdown",
   "id": "a5d0010d",
   "metadata": {},
   "source": [
    "## Boxplot das colunas"
   ]
  },
  {
   "cell_type": "code",
   "execution_count": 7,
   "id": "24cad4e3",
   "metadata": {},
   "outputs": [
    {
     "data": {
      "image/png": "[encoded data removed]",
      "text/plain": [
       "<Figure size 720x432 with 1 Axes>"
      ]
     },
     "metadata": {
      "needs_background": "light"
     },
     "output_type": "display_data"
    }
   ],
   "source": [
    "import seaborn as sns\n",
    "import matplotlib.pyplot as plt\n",
    "\n",
    "# Assuming 'df' is your DataFrame\n",
    "\n",
    "# Set the figure size\n",
    "plt.figure(figsize=(10, 6))\n",
    "\n",
    "# Create boxplots for each column using seaborn\n",
    "sns.boxplot(data=df.drop('updateAt',axis=1))\n",
    "\n",
    "# Set plot title\n",
    "plt.title('Boxplot of Each Column')\n",
    "\n",
    "# Rotate x-axis labels for better readability\n",
    "plt.xticks(rotation=45)\n",
    "\n",
    "# Display the plot\n",
    "plt.show()"
   ]
  },
  {
   "cell_type": "markdown",
   "id": "a2a01d38",
   "metadata": {},
   "source": [
    "## Describe\n",
    "Separado para auxiliar visualização em células"
   ]
  },
  {
   "cell_type": "code",
   "execution_count": 11,
   "id": "396fa0ac",
   "metadata": {},
   "outputs": [
    {
     "data": {
      "text/html": [
       "<div>\n",
       "<style scoped>\n",
       "    .dataframe tbody tr th:only-of-type {\n",
       "        vertical-align: middle;\n",
       "    }\n",
       "\n",
       "    .dataframe tbody tr th {\n",
       "        vertical-align: top;\n",
       "    }\n",
       "\n",
       "    .dataframe thead th {\n",
       "        text-align: right;\n",
       "    }\n",
       "</style>\n",
       "<table border=\"1\" class=\"dataframe\">\n",
       "  <thead>\n",
       "    <tr style=\"text-align: right;\">\n",
       "      <th></th>\n",
       "      <th>correnteMotor</th>\n",
       "      <th>correnteBaterias</th>\n",
       "      <th>temperatura</th>\n",
       "      <th>umidade</th>\n",
       "      <th>tensaoAlimentacaoPCB</th>\n",
       "      <th>estadoStringSolar1</th>\n",
       "      <th>estadoStringSolar2</th>\n",
       "    </tr>\n",
       "  </thead>\n",
       "  <tbody>\n",
       "    <tr>\n",
       "      <th>count</th>\n",
       "      <td>15467.000000</td>\n",
       "      <td>15467.000000</td>\n",
       "      <td>15467.000000</td>\n",
       "      <td>15467.000000</td>\n",
       "      <td>15467.000000</td>\n",
       "      <td>15467.0</td>\n",
       "      <td>15467.0</td>\n",
       "    </tr>\n",
       "    <tr>\n",
       "      <th>mean</th>\n",
       "      <td>16.020677</td>\n",
       "      <td>15.346678</td>\n",
       "      <td>32.837195</td>\n",
       "      <td>60.030581</td>\n",
       "      <td>4.888999</td>\n",
       "      <td>1.0</td>\n",
       "      <td>1.0</td>\n",
       "    </tr>\n",
       "    <tr>\n",
       "      <th>std</th>\n",
       "      <td>21.407315</td>\n",
       "      <td>13.462962</td>\n",
       "      <td>4.476913</td>\n",
       "      <td>11.586831</td>\n",
       "      <td>0.007014</td>\n",
       "      <td>0.0</td>\n",
       "      <td>0.0</td>\n",
       "    </tr>\n",
       "    <tr>\n",
       "      <th>min</th>\n",
       "      <td>0.010000</td>\n",
       "      <td>0.010000</td>\n",
       "      <td>-5.000000</td>\n",
       "      <td>-5.000000</td>\n",
       "      <td>4.870000</td>\n",
       "      <td>1.0</td>\n",
       "      <td>1.0</td>\n",
       "    </tr>\n",
       "    <tr>\n",
       "      <th>25%</th>\n",
       "      <td>0.150000</td>\n",
       "      <td>8.180000</td>\n",
       "      <td>32.400000</td>\n",
       "      <td>54.000000</td>\n",
       "      <td>4.880000</td>\n",
       "      <td>1.0</td>\n",
       "      <td>1.0</td>\n",
       "    </tr>\n",
       "    <tr>\n",
       "      <th>50%</th>\n",
       "      <td>5.390000</td>\n",
       "      <td>11.000000</td>\n",
       "      <td>33.100000</td>\n",
       "      <td>63.000000</td>\n",
       "      <td>4.890000</td>\n",
       "      <td>1.0</td>\n",
       "      <td>1.0</td>\n",
       "    </tr>\n",
       "    <tr>\n",
       "      <th>75%</th>\n",
       "      <td>27.530000</td>\n",
       "      <td>16.570000</td>\n",
       "      <td>33.900000</td>\n",
       "      <td>68.000000</td>\n",
       "      <td>4.890000</td>\n",
       "      <td>1.0</td>\n",
       "      <td>1.0</td>\n",
       "    </tr>\n",
       "    <tr>\n",
       "      <th>max</th>\n",
       "      <td>82.530000</td>\n",
       "      <td>74.470000</td>\n",
       "      <td>37.300000</td>\n",
       "      <td>78.000000</td>\n",
       "      <td>4.910000</td>\n",
       "      <td>1.0</td>\n",
       "      <td>1.0</td>\n",
       "    </tr>\n",
       "  </tbody>\n",
       "</table>\n",
       "</div>"
      ],
      "text/plain": [
       "       correnteMotor  correnteBaterias   temperatura       umidade  \\\n",
       "count   15467.000000      15467.000000  15467.000000  15467.000000   \n",
       "mean       16.020677         15.346678     32.837195     60.030581   \n",
       "std        21.407315         13.462962      4.476913     11.586831   \n",
       "min         0.010000          0.010000     -5.000000     -5.000000   \n",
       "25%         0.150000          8.180000     32.400000     54.000000   \n",
       "50%         5.390000         11.000000     33.100000     63.000000   \n",
       "75%        27.530000         16.570000     33.900000     68.000000   \n",
       "max        82.530000         74.470000     37.300000     78.000000   \n",
       "\n",
       "       tensaoAlimentacaoPCB  estadoStringSolar1  estadoStringSolar2  \n",
       "count          15467.000000             15467.0             15467.0  \n",
       "mean               4.888999                 1.0                 1.0  \n",
       "std                0.007014                 0.0                 0.0  \n",
       "min                4.870000                 1.0                 1.0  \n",
       "25%                4.880000                 1.0                 1.0  \n",
       "50%                4.890000                 1.0                 1.0  \n",
       "75%                4.890000                 1.0                 1.0  \n",
       "max                4.910000                 1.0                 1.0  "
      ]
     },
     "execution_count": 11,
     "metadata": {},
     "output_type": "execute_result"
    }
   ],
   "source": [
    "df.describe().iloc[:,:7]"
   ]
  },
  {
   "cell_type": "code",
   "execution_count": 12,
   "id": "851bc8d3",
   "metadata": {},
   "outputs": [
    {
     "data": {
      "text/html": [
       "<div>\n",
       "<style scoped>\n",
       "    .dataframe tbody tr th:only-of-type {\n",
       "        vertical-align: middle;\n",
       "    }\n",
       "\n",
       "    .dataframe tbody tr th {\n",
       "        vertical-align: top;\n",
       "    }\n",
       "\n",
       "    .dataframe thead th {\n",
       "        text-align: right;\n",
       "    }\n",
       "</style>\n",
       "<table border=\"1\" class=\"dataframe\">\n",
       "  <thead>\n",
       "    <tr style=\"text-align: right;\">\n",
       "      <th></th>\n",
       "      <th>tensaoSaidaMPPT</th>\n",
       "      <th>tensaoEntradaMPPT</th>\n",
       "      <th>correnteMPPT</th>\n",
       "      <th>velocidade</th>\n",
       "    </tr>\n",
       "  </thead>\n",
       "  <tbody>\n",
       "    <tr>\n",
       "      <th>count</th>\n",
       "      <td>15467.000000</td>\n",
       "      <td>15467.000000</td>\n",
       "      <td>15467.000000</td>\n",
       "      <td>15467.000000</td>\n",
       "    </tr>\n",
       "    <tr>\n",
       "      <th>mean</th>\n",
       "      <td>34.464876</td>\n",
       "      <td>56.199904</td>\n",
       "      <td>7.948741</td>\n",
       "      <td>0.324697</td>\n",
       "    </tr>\n",
       "    <tr>\n",
       "      <th>std</th>\n",
       "      <td>24.272740</td>\n",
       "      <td>37.334272</td>\n",
       "      <td>6.678348</td>\n",
       "      <td>1.363207</td>\n",
       "    </tr>\n",
       "    <tr>\n",
       "      <th>min</th>\n",
       "      <td>0.000000</td>\n",
       "      <td>0.000000</td>\n",
       "      <td>0.010000</td>\n",
       "      <td>0.000000</td>\n",
       "    </tr>\n",
       "    <tr>\n",
       "      <th>25%</th>\n",
       "      <td>0.550000</td>\n",
       "      <td>0.790000</td>\n",
       "      <td>0.250000</td>\n",
       "      <td>0.000000</td>\n",
       "    </tr>\n",
       "    <tr>\n",
       "      <th>50%</th>\n",
       "      <td>49.380000</td>\n",
       "      <td>77.580000</td>\n",
       "      <td>9.600000</td>\n",
       "      <td>0.000000</td>\n",
       "    </tr>\n",
       "    <tr>\n",
       "      <th>75%</th>\n",
       "      <td>54.400000</td>\n",
       "      <td>80.780000</td>\n",
       "      <td>13.800000</td>\n",
       "      <td>0.000000</td>\n",
       "    </tr>\n",
       "    <tr>\n",
       "      <th>max</th>\n",
       "      <td>57.570000</td>\n",
       "      <td>93.910000</td>\n",
       "      <td>21.500000</td>\n",
       "      <td>8.150000</td>\n",
       "    </tr>\n",
       "  </tbody>\n",
       "</table>\n",
       "</div>"
      ],
      "text/plain": [
       "       tensaoSaidaMPPT  tensaoEntradaMPPT  correnteMPPT    velocidade\n",
       "count     15467.000000       15467.000000  15467.000000  15467.000000\n",
       "mean         34.464876          56.199904      7.948741      0.324697\n",
       "std          24.272740          37.334272      6.678348      1.363207\n",
       "min           0.000000           0.000000      0.010000      0.000000\n",
       "25%           0.550000           0.790000      0.250000      0.000000\n",
       "50%          49.380000          77.580000      9.600000      0.000000\n",
       "75%          54.400000          80.780000     13.800000      0.000000\n",
       "max          57.570000          93.910000     21.500000      8.150000"
      ]
     },
     "execution_count": 12,
     "metadata": {},
     "output_type": "execute_result"
    }
   ],
   "source": [
    "df.describe().iloc[:,7:]"
   ]
  },
  {
   "cell_type": "markdown",
   "id": "5a7fcc0a",
   "metadata": {},
   "source": [
    "## Temperatura e umidade\n",
    "\n",
    "Pelo firmware, dados nulos são -5"
   ]
  },
  {
   "cell_type": "code",
   "execution_count": 28,
   "id": "a91540de",
   "metadata": {},
   "outputs": [
    {
     "name": "stdout",
     "output_type": "stream",
     "text": [
      "Percentual de dados nulos enviados pelo DHT: 0.01 %\n"
     ]
    }
   ],
   "source": [
    "print('Percentual de dados nulos enviados pelo DHT:',round(\n",
    "    df[((df['temperatura'] == -5) | (df['umidade'] == -5))].shape[0]/df.shape[0],2),'%')"
   ]
  },
  {
   "cell_type": "code",
   "execution_count": 36,
   "id": "af64ae13",
   "metadata": {},
   "outputs": [],
   "source": [
    "# Atribuindo valor nulo às células para não impactar nas métricas\n",
    "df.loc[((df['temperatura'] == -5) | (df['umidade'] == -5)),['temperatura','umidade']] = np.nan"
   ]
  },
  {
   "cell_type": "code",
   "execution_count": 47,
   "id": "b0775839",
   "metadata": {},
   "outputs": [
    {
     "name": "stdout",
     "output_type": "stream",
     "text": [
      "Carga baterias: 237333.695\n",
      "Carga motor: 247758.58000000002\n",
      "Carga mppt: 122932.68000000001\n"
     ]
    }
   ],
   "source": [
    "# Pulando umas etapas e contando quantidade de potencia drenada nas baterias\n",
    "# Calcular a integral usando a função trapz do NumPy\n",
    "integral_Ibateria = np.trapz(df['correnteBaterias'])\n",
    "integral_Imotor = np.trapz(df['correnteMotor'])\n",
    "integral_mppt = np.trapz(df['correnteMPPT'])\n",
    "# Imprimir o valor da integral\n",
    "print(\"Carga baterias:\", integral_Ibateria)\n",
    "print(\"Carga motor:\", integral_Imotor)\n",
    "print(\"Carga mppt:\", integral_mppt)\n",
    "\n",
    "# Comparar com: Capacidade em Coulombs = Capacidade em Ah * 3600"
   ]
  }
 ],
 "metadata": {
  "kernelspec": {
   "display_name": "Python 3 (ipykernel)",
   "language": "python",
   "name": "python3"
  },
  "language_info": {
   "codemirror_mode": {
    "name": "ipython",
    "version": 3
   },
   "file_extension": ".py",
   "mimetype": "text/x-python",
   "name": "python",
   "nbconvert_exporter": "python",
   "pygments_lexer": "ipython3",
   "version": "3.9.12"
  },
  "require": {
   "paths": {
    "buttons.colvis": "https://cdn.datatables.net/buttons/1.5.6/js/buttons.colVis.min",
    "buttons.flash": "https://cdn.datatables.net/buttons/1.5.6/js/buttons.flash.min",
    "buttons.html5": "https://cdn.datatables.net/buttons/1.5.6/js/buttons.html5.min",
    "buttons.print": "https://cdn.datatables.net/buttons/1.5.6/js/buttons.print.min",
    "chartjs": "https://cdnjs.cloudflare.com/ajax/libs/Chart.js/2.8.0/Chart",
    "d3": "https://d3js.org/d3.v5.min",
    "d3-array": "https://d3js.org/d3-array.v2.min",
    "datatables.net": "https://cdn.datatables.net/1.10.18/js/jquery.dataTables",
    "datatables.net-buttons": "https://cdn.datatables.net/buttons/1.5.6/js/dataTables.buttons.min",
    "datatables.responsive": "https://cdn.datatables.net/responsive/2.2.2/js/dataTables.responsive.min",
    "datatables.scroller": "https://cdn.datatables.net/scroller/2.0.0/js/dataTables.scroller.min",
    "datatables.select": "https://cdn.datatables.net/select/1.3.0/js/dataTables.select.min",
    "jszip": "https://cdnjs.cloudflare.com/ajax/libs/jszip/2.5.0/jszip.min",
    "moment": "https://cdnjs.cloudflare.com/ajax/libs/moment.js/2.8.0/moment",
    "pdfmake": "https://cdnjs.cloudflare.com/ajax/libs/pdfmake/0.1.36/pdfmake.min",
    "vfsfonts": "https://cdnjs.cloudflare.com/ajax/libs/pdfmake/0.1.36/vfs_fonts"
   },
   "shim": {
    "buttons.colvis": {
     "deps": [
      "jszip",
      "datatables.net-buttons"
     ]
    },
    "buttons.flash": {
     "deps": [
      "jszip",
      "datatables.net-buttons"
     ]
    },
    "buttons.html5": {
     "deps": [
      "jszip",
      "datatables.net-buttons"
     ]
    },
    "buttons.print": {
     "deps": [
      "jszip",
      "datatables.net-buttons"
     ]
    },
    "chartjs": {
     "deps": [
      "moment"
     ]
    },
    "datatables.net": {
     "exports": "$.fn.dataTable"
    },
    "datatables.net-buttons": {
     "deps": [
      "datatables.net"
     ]
    },
    "pdfmake": {
     "deps": [
      "datatables.net"
     ]
    },
    "vfsfonts": {
     "deps": [
      "datatables.net"
     ]
    }
   }
  },
  "toc": {
   "base_numbering": 1,
   "nav_menu": {},
   "number_sections": true,
   "sideBar": true,
   "skip_h1_title": false,
   "title_cell": "Table of Contents",
   "title_sidebar": "Contents",
   "toc_cell": false,
   "toc_position": {
    "height": "calc(100% - 180px)",
    "left": "10px",
    "top": "150px",
    "width": "305.913px"
   },
   "toc_section_display": true,
   "toc_window_display": true
  }
 },
 "nbformat": 4,
 "nbformat_minor": 5
}
